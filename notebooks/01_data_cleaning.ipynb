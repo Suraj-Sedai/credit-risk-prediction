{
 "cells": [
  {
   "cell_type": "markdown",
   "metadata": {},
   "source": [
    "| Column           | Description                               | Type        | Notes                               |\n",
    "| ---------------- | ----------------------------------------- | ----------- | ----------------------------------- |\n",
    "| Status\\_Checking | Status of checking account                | Categorical | Values: A11, A12, A13, A14          |\n",
    "| Duration         | Duration of credit (months)               | Numeric     | Range: 4–72                         |\n",
    "| CreditAmount     | Loan amount                               | Numeric     | Range: 250–18424                    |\n",
    "| Purpose          | Loan purpose                              | Categorical | Values: car, radio, education, etc. |\n",
    "| Age              | Age in years                              | Numeric     | 19–75                               |\n",
    "| ...              | ...                                       | ...         | ...                                 |\n",
    "| Default          | Target variable (1=default, 0=no default) | Binary      | Target                              |\n"
   ]
  },
  {
   "cell_type": "code",
   "execution_count": 35,
   "metadata": {},
   "outputs": [
    {
     "name": "stdout",
     "output_type": "stream",
     "text": [
      "(1000, 21)\n",
      "Head\n",
      "    0   1    2    3     4    5    6   7    8     9   ...    11  12    13  \\\n",
      "0  A11   6  A34  A43  1169  A65  A75   4  A93  A101  ...  A121  67  A143   \n",
      "1  A12  48  A32  A43  5951  A61  A73   2  A92  A101  ...  A121  22  A143   \n",
      "2  A14  12  A34  A46  2096  A61  A74   2  A93  A101  ...  A121  49  A143   \n",
      "3  A11  42  A32  A42  7882  A61  A74   2  A93  A103  ...  A122  45  A143   \n",
      "4  A11  24  A33  A40  4870  A61  A73   3  A93  A101  ...  A124  53  A143   \n",
      "\n",
      "     14 15    16 17    18    19 20  \n",
      "0  A152  2  A173  1  A192  A201  1  \n",
      "1  A152  1  A173  1  A191  A201  2  \n",
      "2  A152  1  A172  2  A191  A201  1  \n",
      "3  A153  1  A173  2  A191  A201  1  \n",
      "4  A153  2  A173  2  A191  A201  2  \n",
      "\n",
      "[5 rows x 21 columns]\n",
      "\n",
      "Info\n",
      "<class 'pandas.core.frame.DataFrame'>\n",
      "RangeIndex: 1000 entries, 0 to 999\n",
      "Data columns (total 21 columns):\n",
      " #   Column  Non-Null Count  Dtype \n",
      "---  ------  --------------  ----- \n",
      " 0   0       1000 non-null   object\n",
      " 1   1       1000 non-null   int64 \n",
      " 2   2       1000 non-null   object\n",
      " 3   3       1000 non-null   object\n",
      " 4   4       1000 non-null   int64 \n",
      " 5   5       1000 non-null   object\n",
      " 6   6       1000 non-null   object\n",
      " 7   7       1000 non-null   int64 \n",
      " 8   8       1000 non-null   object\n",
      " 9   9       1000 non-null   object\n",
      " 10  10      1000 non-null   int64 \n",
      " 11  11      1000 non-null   object\n",
      " 12  12      1000 non-null   int64 \n",
      " 13  13      1000 non-null   object\n",
      " 14  14      1000 non-null   object\n",
      " 15  15      1000 non-null   int64 \n",
      " 16  16      1000 non-null   object\n",
      " 17  17      1000 non-null   int64 \n",
      " 18  18      1000 non-null   object\n",
      " 19  19      1000 non-null   object\n",
      " 20  20      1000 non-null   int64 \n",
      "dtypes: int64(8), object(13)\n",
      "memory usage: 164.2+ KB\n",
      "None\n",
      "\n",
      "Describe\n",
      "                1             4            7            10           12  \\\n",
      "count  1000.000000   1000.000000  1000.000000  1000.000000  1000.000000   \n",
      "mean     20.903000   3271.258000     2.973000     2.845000    35.546000   \n",
      "std      12.058814   2822.736876     1.118715     1.103718    11.375469   \n",
      "min       4.000000    250.000000     1.000000     1.000000    19.000000   \n",
      "25%      12.000000   1365.500000     2.000000     2.000000    27.000000   \n",
      "50%      18.000000   2319.500000     3.000000     3.000000    33.000000   \n",
      "75%      24.000000   3972.250000     4.000000     4.000000    42.000000   \n",
      "max      72.000000  18424.000000     4.000000     4.000000    75.000000   \n",
      "\n",
      "                15           17           20  \n",
      "count  1000.000000  1000.000000  1000.000000  \n",
      "mean      1.407000     1.155000     1.300000  \n",
      "std       0.577654     0.362086     0.458487  \n",
      "min       1.000000     1.000000     1.000000  \n",
      "25%       1.000000     1.000000     1.000000  \n",
      "50%       1.000000     1.000000     1.000000  \n",
      "75%       2.000000     1.000000     2.000000  \n",
      "max       4.000000     2.000000     2.000000  \n"
     ]
    },
    {
     "name": "stderr",
     "output_type": "stream",
     "text": [
      "C:\\Users\\suraj\\AppData\\Local\\Temp\\ipykernel_6080\\2540206259.py:4: FutureWarning: The 'delim_whitespace' keyword in pd.read_csv is deprecated and will be removed in a future version. Use ``sep='\\s+'`` instead\n",
      "  df = pd.read_csv(\"../data/raw/german.data\",\n"
     ]
    }
   ],
   "source": [
    "\n",
    "\n",
    "import pandas as pd\n",
    "\n",
    "#load data\n",
    "df = pd.read_csv(\"../data/raw/german.data\", \n",
    "                 delim_whitespace=True,  # handles multiple spaces\n",
    "                 header=None)\n",
    "\n",
    "print(df.shape)\n",
    "print(\"Head\")\n",
    "print(df.head())\n",
    "print(\"\\nInfo\")\n",
    "print(df.info())\n",
    "print(\"\\nDescribe\")\n",
    "print(df.describe())\n"
   ]
  },
  {
   "cell_type": "code",
   "execution_count": 36,
   "metadata": {},
   "outputs": [],
   "source": [
    "columns = [\n",
    "    \"Status_of_existing_checking_account\",\n",
    "    \"Duration_in_month\",\n",
    "    \"Credit_history\",\n",
    "    \"Purpose\",\n",
    "    \"Credit_amount\",\n",
    "    \"Savings_account_bonds\",\n",
    "    \"Present_employment_since\",\n",
    "    \"Installment_rate_in_percentage_of_disposable_income\",\n",
    "    \"Personal_status_and_sex\",\n",
    "    \"Other_debtors_guarantors\",\n",
    "    \"Present_residence_since\",\n",
    "    \"Property\",\n",
    "    \"Age_in_years\",\n",
    "    \"Other_installment_plans\",\n",
    "    \"Housing\",\n",
    "    \"Number_of_existing_credits_at_this_bank\",\n",
    "    \"Job\",\n",
    "    \"Number_of_people_being_liable_to_provide_maintenance_for\",\n",
    "    \"Telephone\",\n",
    "    \"Foreign_worker\",\n",
    "    \"Target\"   # last one\n",
    "]\n",
    "\n",
    "df.columns = columns\n"
   ]
  },
  {
   "cell_type": "code",
   "execution_count": 37,
   "metadata": {},
   "outputs": [],
   "source": [
    "purpose_map = {\n",
    "    'A40': 'Car (new)',\n",
    "    'A41': 'Car (used)',\n",
    "    'A42': 'Furniture',\n",
    "    'A43': 'Radio/TV',\n",
    "    'A44': 'Appliances',\n",
    "    'A45': 'Repairs',\n",
    "    'A46': 'Education',\n",
    "    'A47': 'Retraining',\n",
    "    'A48': 'Business',\n",
    "    'A49': 'Other'\n",
    "}\n",
    "\n",
    "df['Purpose'] = df['Purpose'].map(purpose_map)\n"
   ]
  },
  {
   "cell_type": "code",
   "execution_count": 38,
   "metadata": {},
   "outputs": [
    {
     "name": "stdout",
     "output_type": "stream",
     "text": [
      "Index(['Status_of_existing_checking_account', 'Duration_in_month',\n",
      "       'Credit_history', 'Purpose', 'Credit_amount', 'Savings_account_bonds',\n",
      "       'Present_employment_since',\n",
      "       'Installment_rate_in_percentage_of_disposable_income',\n",
      "       'Personal_status_and_sex', 'Other_debtors_guarantors',\n",
      "       'Present_residence_since', 'Property', 'Age_in_years',\n",
      "       'Other_installment_plans', 'Housing',\n",
      "       'Number_of_existing_credits_at_this_bank', 'Job',\n",
      "       'Number_of_people_being_liable_to_provide_maintenance_for', 'Telephone',\n",
      "       'Foreign_worker', 'Target'],\n",
      "      dtype='object')\n"
     ]
    }
   ],
   "source": [
    "print(df.columns)\n"
   ]
  },
  {
   "cell_type": "code",
   "execution_count": 39,
   "metadata": {},
   "outputs": [
    {
     "data": {
      "text/plain": [
       "Target\n",
       "1    700\n",
       "2    300\n",
       "Name: count, dtype: int64"
      ]
     },
     "execution_count": 39,
     "metadata": {},
     "output_type": "execute_result"
    }
   ],
   "source": [
    "\n",
    "df['Target'].value_counts()\n"
   ]
  },
  {
   "cell_type": "code",
   "execution_count": 40,
   "metadata": {},
   "outputs": [
    {
     "name": "stdout",
     "output_type": "stream",
     "text": [
      "Target\n",
      "0    700\n",
      "1    300\n",
      "Name: count, dtype: int64\n"
     ]
    }
   ],
   "source": [
    "# Replace 1 with 0, and 2 with 1\n",
    "df[\"Target\"] = df[\"Target\"].replace({1: 0, 2: 1})\n",
    "\n",
    "# quick check\n",
    "print(df[\"Target\"].value_counts())\n"
   ]
  }
 ],
 "metadata": {
  "kernelspec": {
   "display_name": ".venv",
   "language": "python",
   "name": "python3"
  },
  "language_info": {
   "codemirror_mode": {
    "name": "ipython",
    "version": 3
   },
   "file_extension": ".py",
   "mimetype": "text/x-python",
   "name": "python",
   "nbconvert_exporter": "python",
   "pygments_lexer": "ipython3",
   "version": "3.9.13"
  }
 },
 "nbformat": 4,
 "nbformat_minor": 2
}
