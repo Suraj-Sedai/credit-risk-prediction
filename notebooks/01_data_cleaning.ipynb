{
 "cells": [
  {
   "cell_type": "markdown",
   "metadata": {},
   "source": [
    "| Column           | Description                               | Type        | Notes                               |\n",
    "| ---------------- | ----------------------------------------- | ----------- | ----------------------------------- |\n",
    "| Status\\_Checking | Status of checking account                | Categorical | Values: A11, A12, A13, A14          |\n",
    "| Duration         | Duration of credit (months)               | Numeric     | Range: 4–72                         |\n",
    "| CreditAmount     | Loan amount                               | Numeric     | Range: 250–18424                    |\n",
    "| Purpose          | Loan purpose                              | Categorical | Values: car, radio, education, etc. |\n",
    "| Age              | Age in years                              | Numeric     | 19–75                               |\n",
    "| ...              | ...                                       | ...         | ...                                 |\n",
    "| Default          | Target variable (1=default, 0=no default) | Binary      | Target                              |\n"
   ]
  },
  {
   "cell_type": "code",
   "execution_count": 5,
   "metadata": {},
   "outputs": [
    {
     "name": "stdout",
     "output_type": "stream",
     "text": [
      "(1000, 10)\n",
      "   Unnamed: 0  Age     Sex  Job Housing Saving accounts Checking account  \\\n",
      "0           0   67    male    2     own             NaN           little   \n",
      "1           1   22  female    2     own          little         moderate   \n",
      "2           2   49    male    1     own          little              NaN   \n",
      "3           3   45    male    2    free          little           little   \n",
      "4           4   53    male    2    free          little           little   \n",
      "\n",
      "   Credit amount  Duration              Purpose  \n",
      "0           1169         6             radio/TV  \n",
      "1           5951        48             radio/TV  \n",
      "2           2096        12            education  \n",
      "3           7882        42  furniture/equipment  \n",
      "4           4870        24                  car  \n",
      "<class 'pandas.core.frame.DataFrame'>\n",
      "RangeIndex: 1000 entries, 0 to 999\n",
      "Data columns (total 10 columns):\n",
      " #   Column            Non-Null Count  Dtype \n",
      "---  ------            --------------  ----- \n",
      " 0   Unnamed: 0        1000 non-null   int64 \n",
      " 1   Age               1000 non-null   int64 \n",
      " 2   Sex               1000 non-null   object\n",
      " 3   Job               1000 non-null   int64 \n",
      " 4   Housing           1000 non-null   object\n",
      " 5   Saving accounts   817 non-null    object\n",
      " 6   Checking account  606 non-null    object\n",
      " 7   Credit amount     1000 non-null   int64 \n",
      " 8   Duration          1000 non-null   int64 \n",
      " 9   Purpose           1000 non-null   object\n",
      "dtypes: int64(5), object(5)\n",
      "memory usage: 78.3+ KB\n",
      "None\n",
      "        Unnamed: 0          Age          Job  Credit amount     Duration\n",
      "count  1000.000000  1000.000000  1000.000000    1000.000000  1000.000000\n",
      "mean    499.500000    35.546000     1.904000    3271.258000    20.903000\n",
      "std     288.819436    11.375469     0.653614    2822.736876    12.058814\n",
      "min       0.000000    19.000000     0.000000     250.000000     4.000000\n",
      "25%     249.750000    27.000000     2.000000    1365.500000    12.000000\n",
      "50%     499.500000    33.000000     2.000000    2319.500000    18.000000\n",
      "75%     749.250000    42.000000     2.000000    3972.250000    24.000000\n",
      "max     999.000000    75.000000     3.000000   18424.000000    72.000000\n"
     ]
    }
   ],
   "source": [
    "\n",
    "\n",
    "import pandas as pd\n",
    "\n",
    "#load data\n",
    "df = pd.read_csv(\"../data/raw/german_credit_data.csv\")\n",
    "\n",
    "print(df.shape)\n",
    "print(df.head())\n",
    "print(df.info())\n",
    "print(df.describe())\n"
   ]
  },
  {
   "cell_type": "code",
   "execution_count": 6,
   "metadata": {},
   "outputs": [
    {
     "name": "stdout",
     "output_type": "stream",
     "text": [
      "Unnamed: 0            0\n",
      "Age                   0\n",
      "Sex                   0\n",
      "Job                   0\n",
      "Housing               0\n",
      "Saving accounts     183\n",
      "Checking account    394\n",
      "Credit amount         0\n",
      "Duration              0\n",
      "Purpose               0\n",
      "dtype: int64\n"
     ]
    }
   ],
   "source": [
    "print(df.isnull().sum())"
   ]
  }
 ],
 "metadata": {
  "kernelspec": {
   "display_name": ".venv",
   "language": "python",
   "name": "python3"
  },
  "language_info": {
   "codemirror_mode": {
    "name": "ipython",
    "version": 3
   },
   "file_extension": ".py",
   "mimetype": "text/x-python",
   "name": "python",
   "nbconvert_exporter": "python",
   "pygments_lexer": "ipython3",
   "version": "3.11.2"
  }
 },
 "nbformat": 4,
 "nbformat_minor": 2
}
