{
 "cells": [
  {
   "cell_type": "code",
   "execution_count": null,
   "id": "cc371cdc",
   "metadata": {},
   "outputs": [
    {
     "name": "stdout",
     "output_type": "stream",
     "text": [
      "(1000, 21)\n",
      "Head\n",
      "    0   1    2    3     4    5    6   7    8     9   ...    11  12    13  \\\n",
      "0  A11   6  A34  A43  1169  A65  A75   4  A93  A101  ...  A121  67  A143   \n",
      "1  A12  48  A32  A43  5951  A61  A73   2  A92  A101  ...  A121  22  A143   \n",
      "2  A14  12  A34  A46  2096  A61  A74   2  A93  A101  ...  A121  49  A143   \n",
      "3  A11  42  A32  A42  7882  A61  A74   2  A93  A103  ...  A122  45  A143   \n",
      "4  A11  24  A33  A40  4870  A61  A73   3  A93  A101  ...  A124  53  A143   \n",
      "\n",
      "     14 15    16 17    18    19 20  \n",
      "0  A152  2  A173  1  A192  A201  1  \n",
      "1  A152  1  A173  1  A191  A201  2  \n",
      "2  A152  1  A172  2  A191  A201  1  \n",
      "3  A153  1  A173  2  A191  A201  1  \n",
      "4  A153  2  A173  2  A191  A201  2  \n",
      "\n",
      "[5 rows x 21 columns]\n",
      "\n",
      "Info\n",
      "<class 'pandas.core.frame.DataFrame'>\n",
      "RangeIndex: 1000 entries, 0 to 999\n",
      "Data columns (total 21 columns):\n",
      " #   Column  Non-Null Count  Dtype \n",
      "---  ------  --------------  ----- \n",
      " 0   0       1000 non-null   object\n",
      " 1   1       1000 non-null   int64 \n",
      " 2   2       1000 non-null   object\n",
      " 3   3       1000 non-null   object\n",
      " 4   4       1000 non-null   int64 \n",
      " 5   5       1000 non-null   object\n",
      " 6   6       1000 non-null   object\n",
      " 7   7       1000 non-null   int64 \n",
      " 8   8       1000 non-null   object\n",
      " 9   9       1000 non-null   object\n",
      " 10  10      1000 non-null   int64 \n",
      " 11  11      1000 non-null   object\n",
      " 12  12      1000 non-null   int64 \n",
      " 13  13      1000 non-null   object\n",
      " 14  14      1000 non-null   object\n",
      " 15  15      1000 non-null   int64 \n",
      " 16  16      1000 non-null   object\n",
      " 17  17      1000 non-null   int64 \n",
      " 18  18      1000 non-null   object\n",
      " 19  19      1000 non-null   object\n",
      " 20  20      1000 non-null   int64 \n",
      "dtypes: int64(8), object(13)\n",
      "memory usage: 164.2+ KB\n",
      "None\n",
      "\n",
      "Describe\n",
      "                1             4            7            10           12  \\\n",
      "count  1000.000000   1000.000000  1000.000000  1000.000000  1000.000000   \n",
      "mean     20.903000   3271.258000     2.973000     2.845000    35.546000   \n",
      "std      12.058814   2822.736876     1.118715     1.103718    11.375469   \n",
      "min       4.000000    250.000000     1.000000     1.000000    19.000000   \n",
      "25%      12.000000   1365.500000     2.000000     2.000000    27.000000   \n",
      "50%      18.000000   2319.500000     3.000000     3.000000    33.000000   \n",
      "75%      24.000000   3972.250000     4.000000     4.000000    42.000000   \n",
      "max      72.000000  18424.000000     4.000000     4.000000    75.000000   \n",
      "\n",
      "                15           17           20  \n",
      "count  1000.000000  1000.000000  1000.000000  \n",
      "mean      1.407000     1.155000     1.300000  \n",
      "std       0.577654     0.362086     0.458487  \n",
      "min       1.000000     1.000000     1.000000  \n",
      "25%       1.000000     1.000000     1.000000  \n",
      "50%       1.000000     1.000000     1.000000  \n",
      "75%       2.000000     1.000000     2.000000  \n",
      "max       4.000000     2.000000     2.000000  \n",
      "Index(['Status_of_existing_checking_account', 'Duration_in_month',\n",
      "       'Credit_history', 'Purpose', 'Credit_amount', 'Savings_account_bonds',\n",
      "       'Present_employment_since',\n",
      "       'Installment_rate_in_percentage_of_disposable_income',\n",
      "       'Personal_status_and_sex', 'Other_debtors_guarantors',\n",
      "       'Present_residence_since', 'Property', 'Age_in_years',\n",
      "       'Other_installment_plans', 'Housing',\n",
      "       'Number_of_existing_credits_at_this_bank', 'Job',\n",
      "       'Number_of_people_being_liable_to_provide_maintenance_for', 'Telephone',\n",
      "       'Foreign_worker', 'Target'],\n",
      "      dtype='object')\n",
      "Status_of_existing_checking_account                          0\n",
      "Duration_in_month                                            0\n",
      "Credit_history                                               0\n",
      "Purpose                                                     12\n",
      "Credit_amount                                                0\n",
      "Savings_account_bonds                                        0\n",
      "Present_employment_since                                     0\n",
      "Installment_rate_in_percentage_of_disposable_income          0\n",
      "Personal_status_and_sex                                      0\n",
      "Other_debtors_guarantors                                     0\n",
      "Present_residence_since                                      0\n",
      "Property                                                     0\n",
      "Age_in_years                                                 0\n",
      "Other_installment_plans                                      0\n",
      "Housing                                                      0\n",
      "Number_of_existing_credits_at_this_bank                      0\n",
      "Job                                                          0\n",
      "Number_of_people_being_liable_to_provide_maintenance_for     0\n",
      "Telephone                                                    0\n",
      "Foreign_worker                                               0\n",
      "Target                                                       0\n",
      "dtype: int64\n",
      "Train shape: (800, 47) (800,)\n",
      "Test shape: (200, 47) (200,)\n"
     ]
    },
    {
     "name": "stderr",
     "output_type": "stream",
     "text": [
      "C:\\Users\\suraj\\AppData\\Local\\Temp\\ipykernel_23724\\2540206259.py:4: FutureWarning: The 'delim_whitespace' keyword in pd.read_csv is deprecated and will be removed in a future version. Use ``sep='\\s+'`` instead\n",
      "  df = pd.read_csv(\"../data/raw/german.data\",\n",
      "C:\\Users\\suraj\\AppData\\Local\\Temp\\ipykernel_23724\\3838134564.py:1: FutureWarning: A value is trying to be set on a copy of a DataFrame or Series through chained assignment using an inplace method.\n",
      "The behavior will change in pandas 3.0. This inplace method will never work because the intermediate object on which we are setting values always behaves as a copy.\n",
      "\n",
      "For example, when doing 'df[col].method(value, inplace=True)', try using 'df.method({col: value}, inplace=True)' or df[col] = df[col].method(value) instead, to perform the operation inplace on the original object.\n",
      "\n",
      "\n",
      "  df['Purpose'].fillna(df['Purpose'].mode()[0], inplace=True)\n"
     ]
    }
   ],
   "source": [
    "%run ./03_data_preprocessing.ipynb\n"
   ]
  },
  {
   "cell_type": "markdown",
   "id": "1850f4b6",
   "metadata": {},
   "source": [
    "<h3>Logistic Regression</h3>"
   ]
  },
  {
   "cell_type": "code",
   "execution_count": null,
   "id": "61dff821",
   "metadata": {},
   "outputs": [
    {
     "name": "stdout",
     "output_type": "stream",
     "text": [
      "Accuracy: 0.785\n",
      "ROC AUC: 80.86904761904762\n",
      "\n",
      "Classification Report:\n",
      "               precision    recall  f1-score   support\n",
      "\n",
      "           1       0.82      0.89      0.85       140\n",
      "           2       0.68      0.53      0.60        60\n",
      "\n",
      "    accuracy                           0.79       200\n",
      "   macro avg       0.75      0.71      0.73       200\n",
      "weighted avg       0.78      0.79      0.78       200\n",
      "\n"
     ]
    }
   ],
   "source": [
    "from sklearn.linear_model import LogisticRegression\n",
    "from sklearn.metrics import accuracy_score, confusion_matrix, classification_report, roc_auc_score\n",
    "\n",
    "#train the model\n",
    "\n",
    "log_reg = LogisticRegression(max_iter=1000)\n",
    "log_reg.fit(X_train, y_train)\n",
    "\n",
    "#prediction\n",
    "y_pred = log_reg.predict(X_test)\n",
    "y_prob = log_reg.predict_proba(X_test)[:, 1]\n",
    "\n",
    "#evaluation\n",
    "print(\"Accuracy:\", accuracy_score(y_test, y_pred))\n",
    "print(\"ROC AUC:\", roc_auc_score(y_test, y_prob))\n",
    "print(\"\\nClassification Report:\\n\", classification_report(y_test, y_pred))"
   ]
  },
  {
   "cell_type": "markdown",
   "id": "48c69efd",
   "metadata": {},
   "source": [
    "<h3>Decision Tree</h3>"
   ]
  }
 ],
 "metadata": {
  "kernelspec": {
   "display_name": ".venv",
   "language": "python",
   "name": "python3"
  },
  "language_info": {
   "codemirror_mode": {
    "name": "ipython",
    "version": 3
   },
   "file_extension": ".py",
   "mimetype": "text/x-python",
   "name": "python",
   "nbconvert_exporter": "python",
   "pygments_lexer": "ipython3",
   "version": "3.9.13"
  }
 },
 "nbformat": 4,
 "nbformat_minor": 5
}
