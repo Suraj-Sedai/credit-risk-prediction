{
 "cells": [
  {
   "cell_type": "markdown",
   "id": "215ff355",
   "metadata": {},
   "source": [
    "Performance metrics, ROC-AUC, precision/recall"
   ]
  }
 ],
 "metadata": {
  "language_info": {
   "name": "python"
  }
 },
 "nbformat": 4,
 "nbformat_minor": 5
}
